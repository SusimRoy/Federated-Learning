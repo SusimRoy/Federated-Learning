{
  "nbformat": 4,
  "nbformat_minor": 0,
  "metadata": {
    "colab": {
      "provenance": [],
      "gpuType": "T4"
    },
    "kernelspec": {
      "name": "python3",
      "display_name": "Python 3"
    },
    "language_info": {
      "name": "python"
    },
    "accelerator": "GPU",
    "gpuClass": "standard"
  },
  "cells": [
    {
      "cell_type": "code",
      "execution_count": 71,
      "metadata": {
        "id": "tQjIhYCfIjcg"
      },
      "outputs": [],
      "source": [
        "import os\n",
        "import numpy as np\n",
        "from PIL import Image\n",
        "import matplotlib.pyplot as plt\n",
        "from torch.utils.data import DataLoader, WeightedRandomSampler,ConcatDataset,Dataset\n",
        "import torch\n",
        "import torch.nn as nn\n",
        "import torch.nn.functional as F\n",
        "from tqdm import tqdm\n",
        "import torch.optim as optim\n",
        "import torchvision\n",
        "from torch.autograd import grad\n",
        "from torchvision import transforms\n",
        "from torchvision import datasets,models\n",
        "import torchvision.datasets.utils as dataset_utils"
      ]
    },
    {
      "cell_type": "markdown",
      "source": [
        "###Preparing Coloured MNIST"
      ],
      "metadata": {
        "id": "EJ5L1HvM6KbE"
      }
    },
    {
      "cell_type": "code",
      "source": [
        "def color_grayscale_arr(arr):\n",
        "  #assert arr.ndim == 2\n",
        "  dtype = arr.dtype\n",
        "  _,h, w = arr.shape\n",
        "  #arr = np.reshape(arr, [1,h, w])\n",
        "  arr = np.concatenate([arr,\n",
        "                          np.random.rand(2,h, w)], axis=0)\n",
        "\n",
        "  return arr\n",
        "\n",
        "\n",
        "class ColoredMNIST(datasets.VisionDataset):\n",
        "\n",
        "  def __init__(self, root='./data', env='train1', transform=None, target_transform=None):\n",
        "    super(ColoredMNIST, self).__init__(root, transform=transform,\n",
        "                                target_transform=target_transform)\n",
        "\n",
        "    self.prepare_colored_mnist()\n",
        "    if env in ['train1', 'train2', 'test']:\n",
        "      self.data_label_tuples = torch.load(os.path.join(self.root, 'ColoredMNIST', env) + '.pt')\n",
        "    elif env == 'all_train':\n",
        "      self.data_label_tuples = torch.load(os.path.join(self.root, 'ColoredMNIST', 'train1.pt')) + \\\n",
        "                               torch.load(os.path.join(self.root, 'ColoredMNIST', 'train2.pt'))\n",
        "    else:\n",
        "      raise RuntimeError(f'{env} env unknown. Valid envs are train1, train2, test, and all_train')\n",
        "\n",
        "  def __getitem__(self, index):\n",
        "\n",
        "    img, target = self.data_label_tuples[index]\n",
        "\n",
        "    if self.transform is not None:\n",
        "      img = self.transform(img)\n",
        "\n",
        "    if self.target_transform is not None:\n",
        "      target = self.target_transform(target)\n",
        "\n",
        "    return img, target\n",
        "\n",
        "  def __len__(self):\n",
        "    return len(self.data_label_tuples)\n",
        "\n",
        "  def prepare_colored_mnist(self):\n",
        "    colored_mnist_dir = os.path.join(self.root, 'ColoredMNIST')\n",
        "    if os.path.exists(os.path.join(colored_mnist_dir, 'train1.pt')) \\\n",
        "        and os.path.exists(os.path.join(colored_mnist_dir, 'train2.pt')) \\\n",
        "        and os.path.exists(os.path.join(colored_mnist_dir, 'test.pt')):\n",
        "      print('Colored MNIST dataset already exists')\n",
        "      return\n",
        "\n",
        "    print('Preparing Colored MNIST')\n",
        "    transform_train1 = transforms.Compose([\n",
        "    transforms.Resize((32,32)),\n",
        "    transforms.RandomHorizontalFlip(),\n",
        "    transforms.ToTensor(),\n",
        "    transforms.Normalize((0.1307,), (0.3081,)),\n",
        "])\n",
        "    train_mnist = datasets.mnist.MNIST(self.root, train=True, download=True,transform = transform_train1)\n",
        "\n",
        "    train1_set = []\n",
        "    train2_set = []\n",
        "    test_set = []\n",
        "    for idx, (im, label) in enumerate(train_mnist):\n",
        "      if idx % 10000 == 0:\n",
        "        print(f'Converting image {idx}/{len(train_mnist)}')\n",
        "      im_array = np.array(im)\n",
        "\n",
        "      colored_arr = color_grayscale_arr(im_array)\n",
        "\n",
        "      if idx < 50000:\n",
        "        train1_set.append((torch.from_numpy(colored_arr), label))\n",
        "      else:\n",
        "        test_set.append((torch.from_numpy(colored_arr), label))\n",
        "\n",
        "    torch.save(train1_set, os.path.join(colored_mnist_dir, 'train1.pt'))\n",
        "    torch.save(test_set, os.path.join(colored_mnist_dir, 'test.pt'))"
      ],
      "metadata": {
        "id": "VLQNXlQ1MQsK"
      },
      "execution_count": 64,
      "outputs": []
    },
    {
      "cell_type": "markdown",
      "source": [
        "#Q1"
      ],
      "metadata": {
        "id": "ZfRBqdWg6OHM"
      }
    },
    {
      "cell_type": "markdown",
      "source": [
        "##Load MNIST\n"
      ],
      "metadata": {
        "id": "-WGgsL5K69sC"
      }
    },
    {
      "cell_type": "code",
      "source": [
        "transform_train1 = transforms.Compose([\n",
        "    transforms.Resize((32,32)),\n",
        "    transforms.RandomHorizontalFlip(),\n",
        "    transforms.ToTensor(),\n",
        "    transforms.Normalize((0.1307,), (0.3081,)),\n",
        "])\n",
        "transform_test1 = transforms.Compose([\n",
        "    transforms.Resize((32,32)),\n",
        "    transforms.ToTensor(),\n",
        "    transforms.Normalize((0.1307,), (0.3081,)),\n",
        "])"
      ],
      "metadata": {
        "id": "5ER1zcaE7BeT"
      },
      "execution_count": 110,
      "outputs": []
    },
    {
      "cell_type": "code",
      "source": [
        "class MNISTDataset(Dataset):\n",
        "    def __init__(self, train=True,transform=None):\n",
        "        if train:\n",
        "            self.data = torchvision.datasets.MNIST(root='./data', train=True, download=True,transform=transform)\n",
        "        else:\n",
        "            self.data = torchvision.datasets.MNIST(root='./data', train=False, download=True,transform=transform)\n",
        "\n",
        "    def __len__(self):\n",
        "        return len(self.data)\n",
        "\n",
        "    def __getitem__(self, index):\n",
        "        x, y = self.data[index]\n",
        "        x = torch.stack([x.squeeze(1),x.squeeze(1),x.squeeze(1)],dim=1)\n",
        "        x = x.squeeze(0)\n",
        "        return x, y"
      ],
      "metadata": {
        "id": "BCh44fGdzkja"
      },
      "execution_count": 111,
      "outputs": []
    },
    {
      "cell_type": "code",
      "source": [
        "traindata1 = MNISTDataset(True,transform_train1)\n",
        "testdata1 = MNISTDataset(False,transform_test1)"
      ],
      "metadata": {
        "id": "bQL8_xcg1B-x"
      },
      "execution_count": 112,
      "outputs": []
    },
    {
      "cell_type": "code",
      "source": [
        "mnist_by_class = [[] for _ in range(10)]\n",
        "for i in range(len(traindata1)):\n",
        "    image, label = traindata1[i]\n",
        "    mnist_by_class[label].append(image)\n",
        "\n",
        "class_count = [len(mnist_by_class[i]) for i in range(10)]\n",
        "weights = [1.0 / class_count[label] for image, label in traindata1]\n",
        "\n",
        "sampler = WeightedRandomSampler(weights, num_samples=10000, replacement=False)\n",
        "    \n",
        "train_dataloader1 = DataLoader(traindata1, batch_size=64, sampler=sampler)"
      ],
      "metadata": {
        "id": "G-VyOYzc8U3v"
      },
      "execution_count": 113,
      "outputs": []
    },
    {
      "cell_type": "code",
      "source": [
        "mnist_by_class = [[] for _ in range(10)]\n",
        "for i in range(len(testdata1)):\n",
        "    image, label = testdata1[i]\n",
        "    mnist_by_class[label].append(image)\n",
        "\n",
        "class_count = [len(mnist_by_class[i]) for i in range(10)]\n",
        "weights = [1.0 / class_count[label] for image, label in testdata1]\n",
        "\n",
        "sampler = WeightedRandomSampler(weights, num_samples=5000, replacement=False)\n",
        "    \n",
        "test_dataloader1 = DataLoader(testdata1, batch_size=16, sampler=sampler)"
      ],
      "metadata": {
        "id": "PLqTQKdw_LJJ"
      },
      "execution_count": 114,
      "outputs": []
    },
    {
      "cell_type": "markdown",
      "source": [
        "##Load Coloured MNIST"
      ],
      "metadata": {
        "id": "S1AcdOHz7K5c"
      }
    },
    {
      "cell_type": "code",
      "source": [
        "transform_train2 = transforms.Compose([\n",
        "    transforms.Resize((32,32)),\n",
        "    transforms.RandomHorizontalFlip(),\n",
        "    transforms.ToTensor(),\n",
        "    transforms.Normalize((0.1307,), (0.3081,)),\n",
        "])"
      ],
      "metadata": {
        "id": "vXIv3l9_wt_Z"
      },
      "execution_count": 65,
      "outputs": []
    },
    {
      "cell_type": "code",
      "source": [
        "#Create a folder name 'ColoredMNIST' in the data folder first\n",
        "traindata2= ColoredMNIST(root='./data', env='train1')\n",
        "testdata2= ColoredMNIST(root='./data', env='test')"
      ],
      "metadata": {
        "colab": {
          "base_uri": "https://localhost:8080/"
        },
        "id": "6BmbDVGR7M9N",
        "outputId": "e5c15bd9-35a5-46d3-cbf6-4ee10bb10bbd"
      },
      "execution_count": 66,
      "outputs": [
        {
          "output_type": "stream",
          "name": "stdout",
          "text": [
            "Preparing Colored MNIST\n",
            "Converting image 0/60000\n",
            "Converting image 10000/60000\n",
            "Converting image 20000/60000\n",
            "Converting image 30000/60000\n",
            "Converting image 40000/60000\n",
            "Converting image 50000/60000\n",
            "Preparing Colored MNIST\n",
            "Converting image 0/60000\n",
            "Converting image 10000/60000\n",
            "Converting image 20000/60000\n",
            "Converting image 30000/60000\n",
            "Converting image 40000/60000\n",
            "Converting image 50000/60000\n"
          ]
        }
      ]
    },
    {
      "cell_type": "code",
      "source": [
        "mnist_by_class = [[] for _ in range(10)]\n",
        "for i in range(len(traindata2)):\n",
        "    image, label = traindata2[i]\n",
        "    mnist_by_class[label].append(image)\n",
        "\n",
        "class_count = [len(mnist_by_class[i]) for i in range(10)]\n",
        "weights = [1.0 / class_count[label] for image, label in traindata2]\n",
        "\n",
        "sampler = WeightedRandomSampler(weights, num_samples=10000, replacement=False)\n",
        "    \n",
        "train_dataloader2 = DataLoader(traindata2, batch_size=64, sampler=sampler)"
      ],
      "metadata": {
        "id": "eKh1du87Av1f"
      },
      "execution_count": 67,
      "outputs": []
    },
    {
      "cell_type": "code",
      "source": [
        "mnist_by_class = [[] for _ in range(10)]\n",
        "for i in range(len(testdata2)):\n",
        "    image, label = testdata2[i]\n",
        "    mnist_by_class[label].append(image)\n",
        "\n",
        "class_count = [len(mnist_by_class[i]) for i in range(10)]\n",
        "weights = [1.0 / class_count[label] for image, label in testdata2]\n",
        "\n",
        "sampler = WeightedRandomSampler(weights, num_samples=5000, replacement=False)\n",
        "    \n",
        "test_dataloader2 = DataLoader(testdata2, batch_size=16, sampler=sampler)"
      ],
      "metadata": {
        "id": "QIXldglfAxpg"
      },
      "execution_count": 68,
      "outputs": []
    },
    {
      "cell_type": "markdown",
      "source": [
        "##Load SVHN"
      ],
      "metadata": {
        "id": "ji-HZrfO7O0Z"
      }
    },
    {
      "cell_type": "code",
      "source": [
        "transform_train3 = transforms.Compose([\n",
        "    transforms.Resize((32,32)),\n",
        "    transforms.RandomHorizontalFlip(),\n",
        "    transforms.ToTensor(),\n",
        "    transforms.Normalize((0.4376821, 0.4437697, 0.47280442), (0.19803012, 0.20101562, 0.19703614)),\n",
        "])\n",
        "transform_test3 = transforms.Compose([\n",
        "    transforms.Resize((32,32)),\n",
        "    transforms.ToTensor(),\n",
        "    transforms.Normalize((0.4376821, 0.4437697, 0.47280442), (0.19803012, 0.20101562, 0.19703614)),\n",
        "])"
      ],
      "metadata": {
        "id": "LUBP_8cuHN2c"
      },
      "execution_count": 96,
      "outputs": []
    },
    {
      "cell_type": "code",
      "source": [
        "traindata3= datasets.SVHN('./data', split='train', download=True,\n",
        "                       transform= transform_train3)\n",
        "testdata3= datasets.SVHN('./data', split='test', download=True,transform= transform_test3)"
      ],
      "metadata": {
        "colab": {
          "base_uri": "https://localhost:8080/"
        },
        "id": "eXeUhPjq7M61",
        "outputId": "356db24c-6b0e-4d10-821e-02d19a9e1d8b"
      },
      "execution_count": 97,
      "outputs": [
        {
          "output_type": "stream",
          "name": "stdout",
          "text": [
            "Using downloaded and verified file: ./data/train_32x32.mat\n",
            "Using downloaded and verified file: ./data/test_32x32.mat\n"
          ]
        }
      ]
    },
    {
      "cell_type": "code",
      "source": [
        "svhn_by_class = [[] for _ in range(10)]\n",
        "for i in range(len(traindata3)):\n",
        "    image, label = traindata3[i]\n",
        "    svhn_by_class[label].append(image)\n",
        "\n",
        "class_count = [len(svhn_by_class[i]) for i in range(10)]\n",
        "weights = [1.0 / class_count[label] for image, label in traindata3]\n",
        "\n",
        "sampler = WeightedRandomSampler(weights, num_samples=10000, replacement=False)\n",
        "    \n",
        "train_dataloader3 = DataLoader(traindata3, batch_size=64, sampler=sampler)"
      ],
      "metadata": {
        "id": "h-jT_sMRHUO0"
      },
      "execution_count": 98,
      "outputs": []
    },
    {
      "cell_type": "code",
      "source": [
        "svhn_by_class = [[] for _ in range(10)]\n",
        "for i in range(len(testdata3)):\n",
        "    image, label = testdata3[i]\n",
        "    svhn_by_class[label].append(image)\n",
        "\n",
        "class_count = [len(svhn_by_class[i]) for i in range(10)]\n",
        "weights = [1.0 / class_count[label] for image, label in testdata3]\n",
        "\n",
        "sampler = WeightedRandomSampler(weights, num_samples=5000, replacement=False)\n",
        "    \n",
        "test_dataloader3 = DataLoader(testdata3, batch_size=16, sampler=sampler)"
      ],
      "metadata": {
        "id": "JZyZtw2OHUMM"
      },
      "execution_count": 99,
      "outputs": []
    },
    {
      "cell_type": "markdown",
      "source": [
        "##Training"
      ],
      "metadata": {
        "id": "iv-SE00PISer"
      }
    },
    {
      "cell_type": "code",
      "source": [
        "class Resnet(torch.nn.Module):\n",
        "    def __init__(self, num_classes,grayscale=False):\n",
        "        super(Resnet, self).__init__()\n",
        "        self.backbone = models.resnet34(pretrained=True)\n",
        "        self.backbone.fc = nn.Linear(512,num_classes)\n",
        "\n",
        "    def forward(self, x):\n",
        "        outputs = self.backbone(x)\n",
        "        return outputs"
      ],
      "metadata": {
        "id": "yWfk8zzEMQnT"
      },
      "execution_count": 22,
      "outputs": []
    },
    {
      "cell_type": "code",
      "source": [
        "def client_update(client_model, optimizer, train_loader, epoch=5):\n",
        "    \"\"\"\n",
        "    This function updates/trains client model on client data\n",
        "    \"\"\"\n",
        "    criterion = nn.CrossEntropyLoss()\n",
        "    client_model.train()\n",
        "    for e in range(epoch):\n",
        "        running_loss = 0.0\n",
        "        for batch_idx, (data, target) in enumerate(train_loader):\n",
        "            data, target = data.cuda().float(), target.cuda()\n",
        "            optimizer.zero_grad()\n",
        "            output = client_model(data)\n",
        "            loss = criterion(output, target)\n",
        "            running_loss += loss.item()\n",
        "            loss.backward()\n",
        "            optimizer.step()\n",
        "    return running_loss/len(train_loader)"
      ],
      "metadata": {
        "id": "EKQ58dITMQk2"
      },
      "execution_count": 86,
      "outputs": []
    },
    {
      "cell_type": "code",
      "source": [
        "def server_aggregate(global_model, client_models):\n",
        "      global_dict = global_model.state_dict()\n",
        "      for k in global_dict.keys():\n",
        "          global_dict[k] = torch.stack([client_models[i].state_dict()[k].float() for i in range(len(client_models))], 0).mean(0)\n",
        "      global_model.load_state_dict(global_dict)\n",
        "      for model in client_models:\n",
        "          model.load_state_dict(global_model.state_dict())"
      ],
      "metadata": {
        "id": "2Espw0pYMQiP"
      },
      "execution_count": 87,
      "outputs": []
    },
    {
      "cell_type": "code",
      "source": [
        "def test(global_model, test_loader):\n",
        "    model.eval()\n",
        "    test_loss = 0\n",
        "    total = 0\n",
        "    correct = 0\n",
        "    criterion = nn.CrossEntropyLoss(reduction='sum')\n",
        "    with torch.no_grad():\n",
        "        for data, target in test_loader:\n",
        "            data, target = data.cuda().float(), target.cuda()\n",
        "            output = global_model(data)\n",
        "            test_loss += criterion(output, target).item() \n",
        "            _, preds = torch.max(output, 1)\n",
        "            total += target.size(0)\n",
        "            correct += (preds == target).sum().item()\n",
        "\n",
        "    test_loss /= total\n",
        "    acc = correct / total\n",
        "\n",
        "    return test_loss, acc"
      ],
      "metadata": {
        "id": "AOx_ut8GH2cJ"
      },
      "execution_count": 88,
      "outputs": []
    },
    {
      "cell_type": "code",
      "source": [
        "global_model =  Resnet(10).cuda()\n",
        "model1 = Resnet(10).cuda()\n",
        "model2 = Resnet(10).cuda()\n",
        "model3 = Resnet(10).cuda()\n",
        "client_models = [model1,model2,model3]\n",
        "for model in client_models:\n",
        "    model.load_state_dict(global_model.state_dict()) ### initial synchronizing with global model \n",
        "\n",
        "opt = [optim.SGD(model.parameters(), lr=0.01) for model in client_models]"
      ],
      "metadata": {
        "id": "_U390KAxH2Zt"
      },
      "execution_count": 89,
      "outputs": []
    },
    {
      "cell_type": "code",
      "source": [
        "num_clients = 3\n",
        "num_selected = 3\n",
        "num_rounds = 15\n",
        "epochs = 5\n",
        "batch_size = 64"
      ],
      "metadata": {
        "id": "otvWYedMJDdC"
      },
      "execution_count": 90,
      "outputs": []
    },
    {
      "cell_type": "code",
      "source": [
        "trainloader = [train_dataloader1,train_dataloader2,train_dataloader3]\n",
        "losses_train1,losses_train2,losses_train3,losses_global = [],[],[],[]\n",
        "losses_test1,losses_test2,losses_test3 = [],[],[]\n",
        "acc_train = []\n",
        "acc_test1,acc_test2,acc_test3 = [],[],[]\n",
        "# Runnining FL\n",
        "\n",
        "for r in range(num_rounds):\n",
        "    # client update\n",
        "    loss_global = 0\n",
        "    for i in tqdm(range(num_selected)):\n",
        "        loss_client = client_update(client_models[i], opt[i], trainloader[i], epoch=epochs)\n",
        "        if i == 0:\n",
        "          losses_train1.append(loss_client)\n",
        "        elif i==1:\n",
        "          losses_train2.append(loss_client)\n",
        "        elif i==2:\n",
        "          losses_train3.append(loss_client)\n",
        "        loss_global += loss_client\n",
        "\n",
        "\n",
        "    losses_global.append(loss_global)\n",
        "    server_aggregate(global_model, client_models)\n",
        "    \n",
        "    test_loss, acc = test(global_model, test_dataloader1)\n",
        "    losses_test1.append(test_loss)\n",
        "    acc_test1.append(acc)\n",
        "    print('%d-th round' % r)\n",
        "    print('average train loss %0.3g | test loss %0.3g | test acc: %0.3f' % (losses_train1[r], test_loss, acc))\n",
        "    test_loss, acc = test(global_model, test_dataloader2)\n",
        "    losses_test2.append(test_loss)\n",
        "    acc_test2.append(acc)\n",
        "    print('%d-th round' % r)\n",
        "    print('average train loss %0.3g | test loss %0.3g | test acc: %0.3f' % (losses_train2[r], test_loss, acc))\n",
        "    test_loss, acc = test(global_model, test_dataloader3)\n",
        "    losses_test3.append(test_loss)\n",
        "    acc_test3.append(acc)\n",
        "    print('%d-th round' % r)\n",
        "    print('average train loss %0.3g | test loss %0.3g | test acc: %0.3f' % (losses_train3[r], test_loss, acc))"
      ],
      "metadata": {
        "colab": {
          "base_uri": "https://localhost:8080/"
        },
        "id": "dIloo9UhH2Xf",
        "outputId": "34ffa031-55fc-4739-bd38-e812994b436f"
      },
      "execution_count": 91,
      "outputs": [
        {
          "output_type": "stream",
          "name": "stderr",
          "text": [
            "100%|██████████| 3/3 [01:20<00:00, 26.87s/it]\n"
          ]
        },
        {
          "output_type": "stream",
          "name": "stdout",
          "text": [
            "0-th round\n",
            "average train loss 0.0946 | test loss 0.464 | test acc: 0.853\n",
            "0-th round\n",
            "average train loss 0.0598 | test loss 0.442 | test acc: 0.861\n",
            "0-th round\n",
            "average train loss 0.615 | test loss 1.83 | test acc: 0.429\n"
          ]
        },
        {
          "output_type": "stream",
          "name": "stderr",
          "text": [
            "100%|██████████| 3/3 [01:21<00:00, 27.12s/it]\n"
          ]
        },
        {
          "output_type": "stream",
          "name": "stdout",
          "text": [
            "1-th round\n",
            "average train loss 0.0802 | test loss 0.308 | test acc: 0.909\n",
            "1-th round\n",
            "average train loss 0.0411 | test loss 0.275 | test acc: 0.917\n",
            "1-th round\n",
            "average train loss 0.518 | test loss 1.33 | test acc: 0.612\n"
          ]
        },
        {
          "output_type": "stream",
          "name": "stderr",
          "text": [
            "100%|██████████| 3/3 [01:19<00:00, 26.52s/it]\n"
          ]
        },
        {
          "output_type": "stream",
          "name": "stdout",
          "text": [
            "2-th round\n",
            "average train loss 0.0604 | test loss 0.205 | test acc: 0.937\n",
            "2-th round\n",
            "average train loss 0.0367 | test loss 0.193 | test acc: 0.943\n",
            "2-th round\n",
            "average train loss 0.475 | test loss 1.14 | test acc: 0.672\n"
          ]
        },
        {
          "output_type": "stream",
          "name": "stderr",
          "text": [
            "100%|██████████| 3/3 [01:18<00:00, 26.33s/it]\n"
          ]
        },
        {
          "output_type": "stream",
          "name": "stdout",
          "text": [
            "3-th round\n",
            "average train loss 0.0532 | test loss 0.192 | test acc: 0.943\n",
            "3-th round\n",
            "average train loss 0.0257 | test loss 0.169 | test acc: 0.952\n",
            "3-th round\n",
            "average train loss 0.422 | test loss 0.97 | test acc: 0.727\n"
          ]
        },
        {
          "output_type": "stream",
          "name": "stderr",
          "text": [
            "100%|██████████| 3/3 [01:20<00:00, 26.75s/it]\n"
          ]
        },
        {
          "output_type": "stream",
          "name": "stdout",
          "text": [
            "4-th round\n",
            "average train loss 0.0522 | test loss 0.175 | test acc: 0.946\n",
            "4-th round\n",
            "average train loss 0.0203 | test loss 0.166 | test acc: 0.950\n",
            "4-th round\n",
            "average train loss 0.393 | test loss 0.926 | test acc: 0.745\n"
          ]
        },
        {
          "output_type": "stream",
          "name": "stderr",
          "text": [
            "100%|██████████| 3/3 [01:19<00:00, 26.62s/it]\n"
          ]
        },
        {
          "output_type": "stream",
          "name": "stdout",
          "text": [
            "5-th round\n",
            "average train loss 0.0389 | test loss 0.141 | test acc: 0.958\n",
            "5-th round\n",
            "average train loss 0.0191 | test loss 0.13 | test acc: 0.962\n",
            "5-th round\n",
            "average train loss 0.365 | test loss 0.875 | test acc: 0.758\n"
          ]
        },
        {
          "output_type": "stream",
          "name": "stderr",
          "text": [
            "100%|██████████| 3/3 [01:19<00:00, 26.63s/it]\n"
          ]
        },
        {
          "output_type": "stream",
          "name": "stdout",
          "text": [
            "6-th round\n",
            "average train loss 0.0368 | test loss 0.146 | test acc: 0.961\n",
            "6-th round\n",
            "average train loss 0.0139 | test loss 0.117 | test acc: 0.966\n",
            "6-th round\n",
            "average train loss 0.354 | test loss 0.805 | test acc: 0.779\n"
          ]
        },
        {
          "output_type": "stream",
          "name": "stderr",
          "text": [
            "100%|██████████| 3/3 [01:18<00:00, 26.05s/it]\n"
          ]
        },
        {
          "output_type": "stream",
          "name": "stdout",
          "text": [
            "7-th round\n",
            "average train loss 0.0328 | test loss 0.148 | test acc: 0.956\n",
            "7-th round\n",
            "average train loss 0.0145 | test loss 0.128 | test acc: 0.961\n",
            "7-th round\n",
            "average train loss 0.328 | test loss 0.764 | test acc: 0.788\n"
          ]
        },
        {
          "output_type": "stream",
          "name": "stderr",
          "text": [
            "100%|██████████| 3/3 [01:17<00:00, 25.85s/it]\n"
          ]
        },
        {
          "output_type": "stream",
          "name": "stdout",
          "text": [
            "8-th round\n",
            "average train loss 0.0327 | test loss 0.141 | test acc: 0.960\n",
            "8-th round\n",
            "average train loss 0.0123 | test loss 0.0912 | test acc: 0.974\n",
            "8-th round\n",
            "average train loss 0.305 | test loss 0.737 | test acc: 0.799\n"
          ]
        },
        {
          "output_type": "stream",
          "name": "stderr",
          "text": [
            "100%|██████████| 3/3 [01:17<00:00, 25.88s/it]\n"
          ]
        },
        {
          "output_type": "stream",
          "name": "stdout",
          "text": [
            "9-th round\n",
            "average train loss 0.0276 | test loss 0.131 | test acc: 0.962\n",
            "9-th round\n",
            "average train loss 0.011 | test loss 0.0916 | test acc: 0.977\n",
            "9-th round\n",
            "average train loss 0.298 | test loss 0.691 | test acc: 0.813\n"
          ]
        },
        {
          "output_type": "stream",
          "name": "stderr",
          "text": [
            "100%|██████████| 3/3 [01:19<00:00, 26.47s/it]\n"
          ]
        },
        {
          "output_type": "stream",
          "name": "stdout",
          "text": [
            "10-th round\n",
            "average train loss 0.0253 | test loss 0.117 | test acc: 0.967\n",
            "10-th round\n",
            "average train loss 0.0106 | test loss 0.0861 | test acc: 0.977\n",
            "10-th round\n",
            "average train loss 0.285 | test loss 0.673 | test acc: 0.822\n"
          ]
        },
        {
          "output_type": "stream",
          "name": "stderr",
          "text": [
            "100%|██████████| 3/3 [01:18<00:00, 26.05s/it]\n"
          ]
        },
        {
          "output_type": "stream",
          "name": "stdout",
          "text": [
            "11-th round\n",
            "average train loss 0.0236 | test loss 0.0922 | test acc: 0.974\n",
            "11-th round\n",
            "average train loss 0.0127 | test loss 0.0815 | test acc: 0.978\n",
            "11-th round\n",
            "average train loss 0.283 | test loss 0.703 | test acc: 0.824\n"
          ]
        },
        {
          "output_type": "stream",
          "name": "stderr",
          "text": [
            "100%|██████████| 3/3 [01:19<00:00, 26.42s/it]\n"
          ]
        },
        {
          "output_type": "stream",
          "name": "stdout",
          "text": [
            "12-th round\n",
            "average train loss 0.0304 | test loss 0.097 | test acc: 0.972\n",
            "12-th round\n",
            "average train loss 0.00682 | test loss 0.0794 | test acc: 0.981\n",
            "12-th round\n",
            "average train loss 0.252 | test loss 0.714 | test acc: 0.821\n"
          ]
        },
        {
          "output_type": "stream",
          "name": "stderr",
          "text": [
            "100%|██████████| 3/3 [01:19<00:00, 26.43s/it]\n"
          ]
        },
        {
          "output_type": "stream",
          "name": "stdout",
          "text": [
            "13-th round\n",
            "average train loss 0.0252 | test loss 0.0976 | test acc: 0.972\n",
            "13-th round\n",
            "average train loss 0.00497 | test loss 0.0705 | test acc: 0.982\n",
            "13-th round\n",
            "average train loss 0.254 | test loss 0.643 | test acc: 0.833\n"
          ]
        },
        {
          "output_type": "stream",
          "name": "stderr",
          "text": [
            "100%|██████████| 3/3 [01:19<00:00, 26.59s/it]\n"
          ]
        },
        {
          "output_type": "stream",
          "name": "stdout",
          "text": [
            "14-th round\n",
            "average train loss 0.0252 | test loss 0.0929 | test acc: 0.975\n",
            "14-th round\n",
            "average train loss 0.0072 | test loss 0.0762 | test acc: 0.980\n",
            "14-th round\n",
            "average train loss 0.251 | test loss 0.625 | test acc: 0.837\n"
          ]
        }
      ]
    },
    {
      "cell_type": "code",
      "source": [
        "plt.plot(range(len(losses_train1)),losses_train1,label='client1')\n",
        "plt.plot(range(len(losses_train2)),losses_train2,label='client2')\n",
        "plt.plot(range(len(losses_train3)),losses_train3,label='client3')\n",
        "plt.xlabel('epochs')\n",
        "plt.ylabel('loss')\n",
        "plt.legend()\n",
        "plt.show()"
      ],
      "metadata": {
        "id": "3jkz9r48uX14",
        "colab": {
          "base_uri": "https://localhost:8080/",
          "height": 449
        },
        "outputId": "b3405c4c-5094-42fb-dd9b-f365945cec6b"
      },
      "execution_count": 93,
      "outputs": [
        {
          "output_type": "display_data",
          "data": {
            "text/plain": [
              "<Figure size 640x480 with 1 Axes>"
            ],
            "image/png": "[encoded data removed]"
          },
          "metadata": {}
        }
      ]
    },
    {
      "cell_type": "code",
      "source": [
        "plt.plot(range(len(losses_test1)),losses_test1,label='MNIST')\n",
        "plt.plot(range(len(losses_test2)),losses_test2,label='Coloured_MNIST')\n",
        "plt.plot(range(len(losses_test3)),losses_test3,label='SVHN')\n",
        "plt.xlabel('epochs')\n",
        "plt.ylabel('loss')\n",
        "plt.legend()\n",
        "plt.show()"
      ],
      "metadata": {
        "id": "w_dLZtWjur0u",
        "colab": {
          "base_uri": "https://localhost:8080/",
          "height": 449
        },
        "outputId": "e708055a-7d9e-4b1a-fe3c-595b3b02945c"
      },
      "execution_count": 94,
      "outputs": [
        {
          "output_type": "display_data",
          "data": {
            "text/plain": [
              "<Figure size 640x480 with 1 Axes>"
            ],
            "image/png": "[encoded data removed]"
          },
          "metadata": {}
        }
      ]
    },
    {
      "cell_type": "code",
      "source": [
        "plt.plot(range(len(acc_test1)),acc_test1,label='MNIST')\n",
        "plt.plot(range(len(acc_test2)),acc_test2,label='Coloured_MNIST')\n",
        "plt.plot(range(len(acc_test3)),acc_test3,label='SVHN')\n",
        "plt.xlabel('epochs')\n",
        "plt.ylabel('accuracy')\n",
        "plt.legend()\n",
        "plt.show()"
      ],
      "metadata": {
        "id": "xIYdInmfuz0t",
        "colab": {
          "base_uri": "https://localhost:8080/",
          "height": 449
        },
        "outputId": "ccc69fda-9432-404f-9e44-567d73a7d300"
      },
      "execution_count": 95,
      "outputs": [
        {
          "output_type": "display_data",
          "data": {
            "text/plain": [
              "<Figure size 640x480 with 1 Axes>"
            ],
            "image/png": "[encoded data removed]"
          },
          "metadata": {}
        }
      ]
    },
    {
      "cell_type": "markdown",
      "source": [
        "##Class-wise accuracy"
      ],
      "metadata": {
        "id": "7GNW7pMinxd1"
      }
    },
    {
      "cell_type": "code",
      "source": [
        "def class_wise_acc(model_ft,dataloader,overall=False):\n",
        "  nb_classes = 10\n",
        "  total = 0\n",
        "  correct = 0\n",
        "  confusion_matrix = torch.zeros(nb_classes, nb_classes)\n",
        "  with torch.no_grad():\n",
        "      for i, (inputs, classes) in enumerate(tqdm(dataloader)):\n",
        "          inputs = inputs.float().cuda()\n",
        "          classes = classes.cuda()\n",
        "          outputs = model_ft(inputs)\n",
        "          _, preds = torch.max(outputs, 1)\n",
        "          total += classes.size(0)\n",
        "          correct += (preds == classes).sum().item()\n",
        "          for t, p in zip(classes.view(-1), preds.view(-1)):\n",
        "                  confusion_matrix[t.long(), p.long()] += 1\n",
        "  if not overall:\n",
        "    print(confusion_matrix.diag()/confusion_matrix.sum(1))\n",
        "  else:\n",
        "    #accuracy = torch.tensor(torch.trace(torch.tensor(confusion_matrix))) / torch.sum(torch.tensor(confusion_matrix))\n",
        "    print(correct*100/total)\n",
        "    #print((accuracy.item())*100)\n",
        "    print(confusion_matrix)\n",
        "    return correct*100/total\n",
        "  print(' ')"
      ],
      "metadata": {
        "id": "w6btELmAT7pb"
      },
      "execution_count": 96,
      "outputs": []
    },
    {
      "cell_type": "markdown",
      "source": [
        "###Client-side"
      ],
      "metadata": {
        "id": "O5ZImN0BpWiq"
      }
    },
    {
      "cell_type": "code",
      "source": [
        "print('Class-wise accuracy of client 1')\n",
        "class_wise_acc(model1,test_dataloader1,False)\n",
        "print('Class-wise accuracy of client 2')\n",
        "class_wise_acc(model2,test_dataloader2,False)\n",
        "print('Class-wise accuracy of client 3')\n",
        "class_wise_acc(model3,test_dataloader3,False)"
      ],
      "metadata": {
        "id": "gcoX0W_7oapx",
        "colab": {
          "base_uri": "https://localhost:8080/"
        },
        "outputId": "cae7c0ca-0bbd-4f14-a611-0ac24f195ca6"
      },
      "execution_count": 97,
      "outputs": [
        {
          "output_type": "stream",
          "name": "stdout",
          "text": [
            "Class-wise accuracy of client 1\n"
          ]
        },
        {
          "output_type": "stream",
          "name": "stderr",
          "text": [
            "100%|██████████| 313/313 [00:04<00:00, 71.38it/s]\n"
          ]
        },
        {
          "output_type": "stream",
          "name": "stdout",
          "text": [
            "tensor([0.9818, 0.9845, 0.9673, 0.9621, 0.9793, 0.9636, 0.9708, 0.9663, 0.9879,\n",
            "        0.9689])\n",
            " \n",
            "Class-wise accuracy of client 2\n"
          ]
        },
        {
          "output_type": "stream",
          "name": "stderr",
          "text": [
            "100%|██████████| 313/313 [00:02<00:00, 113.74it/s]\n"
          ]
        },
        {
          "output_type": "stream",
          "name": "stdout",
          "text": [
            "tensor([0.9896, 0.9720, 0.9881, 0.9857, 0.9739, 0.9775, 0.9959, 0.9778, 0.9801,\n",
            "        0.9741])\n",
            " \n",
            "Class-wise accuracy of client 3\n"
          ]
        },
        {
          "output_type": "stream",
          "name": "stderr",
          "text": [
            "100%|██████████| 313/313 [00:04<00:00, 70.49it/s]"
          ]
        },
        {
          "output_type": "stream",
          "name": "stdout",
          "text": [
            "tensor([0.0020, 0.9779, 0.0100, 0.1708, 0.1548, 0.0096, 0.0085, 0.0373, 0.2786,\n",
            "        0.0144])\n",
            " \n"
          ]
        },
        {
          "output_type": "stream",
          "name": "stderr",
          "text": [
            "\n"
          ]
        }
      ]
    },
    {
      "cell_type": "markdown",
      "source": [
        "###Server-side"
      ],
      "metadata": {
        "id": "EyT7l04bpZg4"
      }
    },
    {
      "cell_type": "code",
      "source": [
        "print('class-wise accuracy of server for MNIST')\n",
        "class_wise_acc(global_model,test_dataloader1,False)\n",
        "print('class-wise accuracy of server for Coloured MNIST')\n",
        "class_wise_acc(global_model,test_dataloader2,False)\n",
        "print('class-wise accuracy of server for SVHN')\n",
        "class_wise_acc(global_model,test_dataloader3,False)"
      ],
      "metadata": {
        "id": "BsAY7c2BpVk_",
        "colab": {
          "base_uri": "https://localhost:8080/"
        },
        "outputId": "f5f46124-0974-4c79-b539-8ce24537bc8c"
      },
      "execution_count": 98,
      "outputs": [
        {
          "output_type": "stream",
          "name": "stdout",
          "text": [
            "class-wise accuracy of server for MNIST\n"
          ]
        },
        {
          "output_type": "stream",
          "name": "stderr",
          "text": [
            "100%|██████████| 313/313 [00:04<00:00, 76.73it/s]\n"
          ]
        },
        {
          "output_type": "stream",
          "name": "stdout",
          "text": [
            "tensor([0.9938, 0.9885, 0.9572, 0.9759, 0.9798, 0.9574, 0.9801, 0.9601, 0.9796,\n",
            "        0.9619])\n",
            " \n",
            "class-wise accuracy of server for Coloured MNIST\n"
          ]
        },
        {
          "output_type": "stream",
          "name": "stderr",
          "text": [
            "100%|██████████| 313/313 [00:02<00:00, 117.27it/s]\n"
          ]
        },
        {
          "output_type": "stream",
          "name": "stdout",
          "text": [
            "tensor([0.9864, 0.9806, 0.9793, 0.9861, 0.9839, 0.9690, 0.9886, 0.9742, 0.9817,\n",
            "        0.9937])\n",
            " \n",
            "class-wise accuracy of server for SVHN\n"
          ]
        },
        {
          "output_type": "stream",
          "name": "stderr",
          "text": [
            "100%|██████████| 313/313 [00:04<00:00, 65.78it/s]"
          ]
        },
        {
          "output_type": "stream",
          "name": "stdout",
          "text": [
            "tensor([0.9223, 0.8860, 0.8542, 0.7056, 0.8553, 0.8696, 0.8198, 0.8804, 0.8455,\n",
            "        0.7982])\n",
            " \n"
          ]
        },
        {
          "output_type": "stream",
          "name": "stderr",
          "text": [
            "\n"
          ]
        }
      ]
    },
    {
      "cell_type": "markdown",
      "source": [
        "##Overall Accuracy & Confusion Matrix"
      ],
      "metadata": {
        "id": "U_Z6hSVQpe3E"
      }
    },
    {
      "cell_type": "code",
      "source": [
        "print('Overall accuracy and confusion matrix of client 1')\n",
        "class_wise_acc(model1,test_dataloader1,True)\n",
        "print('Overall accuracy and confusion matrix of client 2')\n",
        "class_wise_acc(model2,test_dataloader2,True)\n",
        "print('Overall accuracy and confusion matrix of client 3')\n",
        "class_wise_acc(model3,test_dataloader3,True)\n",
        "print('Overall accuracy and confusion matrix of server for MNIST')\n",
        "acc1 = class_wise_acc(global_model,test_dataloader1,True)\n",
        "print('Overall accuracy and confusion matrix of server for Coloured MNIST')\n",
        "acc2 = class_wise_acc(global_model,test_dataloader2,True)\n",
        "print('Overall accuracy and confusion matrix of server for SVHN')\n",
        "acc3 = class_wise_acc(global_model,test_dataloader3,True)\n",
        "print('Overall accuracy and confusion matrix of server for all')\n",
        "print((acc1+acc2+acc3)/3)"
      ],
      "metadata": {
        "id": "n-UjbiGOphfs",
        "colab": {
          "base_uri": "https://localhost:8080/"
        },
        "outputId": "9ac3ebae-806a-49c4-edb9-39e6ec799bf1"
      },
      "execution_count": 99,
      "outputs": [
        {
          "output_type": "stream",
          "name": "stdout",
          "text": [
            "Overall accuracy and confusion matrix of client 1\n"
          ]
        },
        {
          "output_type": "stream",
          "name": "stderr",
          "text": [
            "100%|██████████| 313/313 [00:04<00:00, 74.71it/s]\n"
          ]
        },
        {
          "output_type": "stream",
          "name": "stdout",
          "text": [
            "97.42\n",
            "tensor([[494.,   0.,   0.,   0.,   1.,   0.,   1.,   0.,   0.,   0.],\n",
            "        [  0., 526.,   0.,   2.,   2.,   0.,   0.,   2.,   0.,   0.],\n",
            "        [  3.,   2., 505.,   1.,   1.,   2.,   4.,   1.,   0.,   0.],\n",
            "        [  1.,   0.,   0., 500.,   0.,   6.,   0.,   0.,   2.,   1.],\n",
            "        [  1.,   3.,   1.,   0., 502.,   0.,   2.,   1.,   5.,   9.],\n",
            "        [  0.,   2.,   4.,   5.,   1., 454.,   0.,   1.,   0.,   0.],\n",
            "        [  5.,   1.,   1.,   3.,   0.,   2., 483.,   1.,   0.,   0.],\n",
            "        [  2.,   8.,   6.,   1.,   0.,   4.,   0., 465.,   0.,   1.],\n",
            "        [  1.,   0.,   2.,   4.,   0.,   3.,   1.,   1., 467.,   1.],\n",
            "        [  0.,   0.,   3.,   2.,   4.,   1.,   0.,   2.,   2., 475.]])\n",
            "Overall accuracy and confusion matrix of client 2\n"
          ]
        },
        {
          "output_type": "stream",
          "name": "stderr",
          "text": [
            "100%|██████████| 313/313 [00:02<00:00, 114.45it/s]\n"
          ]
        },
        {
          "output_type": "stream",
          "name": "stdout",
          "text": [
            "98.08\n",
            "tensor([[466.,   0.,   0.,   0.,   0.,   1.,   2.,   0.,   1.,   0.],\n",
            "        [  4., 482.,   0.,   0.,   1.,   2.,   1.,   2.,   0.,   0.],\n",
            "        [  0.,   1., 502.,   3.,   0.,   1.,   0.,   1.,   1.,   0.],\n",
            "        [  1.,   0.,   2., 497.,   0.,   3.,   0.,   1.,   2.,   2.],\n",
            "        [  1.,   3.,   1.,   0., 515.,   0.,   1.,   0.,   1.,   5.],\n",
            "        [  1.,   0.,   1.,   2.,   0., 472.,   5.,   2.,   0.,   2.],\n",
            "        [  0.,   0.,   0.,   0.,   0.,   3., 514.,   0.,   0.,   0.],\n",
            "        [  1.,   4.,   3.,   0.,   0.,   1.,   0., 495.,   1.,   2.],\n",
            "        [  0.,   0.,   0.,   2.,   0.,   2.,   2.,   0., 492.,   5.],\n",
            "        [  1.,   1.,   1.,   1.,   6.,   0.,   0.,   1.,   2., 469.]])\n",
            "Overall accuracy and confusion matrix of client 3\n"
          ]
        },
        {
          "output_type": "stream",
          "name": "stderr",
          "text": [
            "100%|██████████| 313/313 [00:04<00:00, 73.77it/s]\n"
          ]
        },
        {
          "output_type": "stream",
          "name": "stdout",
          "text": [
            "18.42\n",
            "tensor([[  2., 453.,   0.,  37.,   2.,   0.,   0.,   0.,   6.,   0.],\n",
            "        [  0., 557.,   0.,   1.,   2.,   0.,   0.,   2.,   0.,   0.],\n",
            "        [  0., 280.,   5., 137.,  56.,   0.,   0.,   0.,  27.,   0.],\n",
            "        [  0., 364.,   0.,  95.,  28.,   0.,   0.,   0.,  46.,   0.],\n",
            "        [  0., 330.,   1.,  53.,  85.,   0.,   0.,   0.,   8.,   0.],\n",
            "        [  0., 221.,   0., 213.,  40.,   5.,   1.,   0.,  17.,   0.],\n",
            "        [  0., 312.,   0.,  94.,  50.,   0.,   5.,   1.,  28.,   0.],\n",
            "        [  0., 426.,   0.,  58.,   2.,   0.,   0.,  16.,   4.,   0.],\n",
            "        [  0., 278.,   0.,  33.,  24.,   0.,   0.,   0., 144.,   0.],\n",
            "        [  0., 310.,   4.,  55.,  29.,   1.,   0.,   2.,  43.,   7.]])\n",
            "Overall accuracy and confusion matrix of server for MNIST\n"
          ]
        },
        {
          "output_type": "stream",
          "name": "stderr",
          "text": [
            "100%|██████████| 313/313 [00:04<00:00, 71.24it/s]\n"
          ]
        },
        {
          "output_type": "stream",
          "name": "stdout",
          "text": [
            "96.88\n",
            "tensor([[511.,   0.,   0.,   0.,   1.,   0.,   1.,   0.,   1.,   0.],\n",
            "        [  2., 483.,   0.,   3.,   2.,   0.,   5.,   1.,   0.,   0.],\n",
            "        [  0.,   2., 471.,   4.,   4.,   3.,   7.,   5.,   2.,   0.],\n",
            "        [  1.,   0.,   6., 466.,   0.,   5.,   0.,   0.,   3.,   2.],\n",
            "        [  1.,   2.,   1.,   0., 499.,   0.,   0.,   0.,   1.,   7.],\n",
            "        [  1.,   0.,   8.,   4.,   0., 464.,   5.,   2.,   0.,   1.],\n",
            "        [  4.,   1.,   1.,   2.,   1.,   1., 474.,   0.,   1.,   0.],\n",
            "        [  0.,   4.,   7.,   2.,   1.,   2.,   0., 475.,   0.,   1.],\n",
            "        [  2.,   0.,   1.,   3.,   0.,   2.,   3.,   0., 492.,   3.],\n",
            "        [  2.,   2.,   3.,   1.,   4.,   2.,   1.,   2.,   4., 509.]])\n",
            "Overall accuracy and confusion matrix of server for Coloured MNIST\n"
          ]
        },
        {
          "output_type": "stream",
          "name": "stderr",
          "text": [
            "100%|██████████| 313/313 [00:02<00:00, 117.27it/s]\n"
          ]
        },
        {
          "output_type": "stream",
          "name": "stdout",
          "text": [
            "98.28\n",
            "tensor([[513.,   1.,   0.,   0.,   0.,   0.,   2.,   0.,   0.,   0.],\n",
            "        [  0., 478.,   0.,   0.,   1.,   0.,   0.,   0.,   0.,   0.],\n",
            "        [  1.,   1., 474.,   3.,   2.,   0.,   3.,   0.,   0.,   0.],\n",
            "        [  0.,   0.,   1., 505.,   1.,   1.,   2.,   0.,   6.,   1.],\n",
            "        [  1.,   4.,   0.,   0., 493.,   0.,   3.,   1.,   1.,   1.],\n",
            "        [  0.,   0.,   3.,   0.,   0., 471.,   4.,   2.,   1.,   1.],\n",
            "        [  2.,   0.,   0.,   0.,   0.,   0., 475.,   0.,   1.,   0.],\n",
            "        [  0.,   3.,   4.,   5.,   1.,   2.,   0., 515.,   0.,   0.],\n",
            "        [  0.,   0.,   0.,   3.,   0.,   2.,   0.,   0., 492.,   3.],\n",
            "        [  1.,   1.,   0.,   1.,   2.,   0.,   1.,   3.,   3., 498.]])\n",
            "Overall accuracy and confusion matrix of server for SVHN\n"
          ]
        },
        {
          "output_type": "stream",
          "name": "stderr",
          "text": [
            "100%|██████████| 313/313 [00:04<00:00, 69.95it/s]"
          ]
        },
        {
          "output_type": "stream",
          "name": "stdout",
          "text": [
            "83.74\n",
            "tensor([[459.,   8.,   5.,   1.,   3.,   3.,  29.,   4.,   4.,   4.],\n",
            "        [  8., 507.,   3.,   9.,   7.,   1.,   1.,  11.,   5.,   3.],\n",
            "        [  3.,  11., 454.,  19.,   7.,  13.,   0.,  10.,   5.,  19.],\n",
            "        [  3.,  12.,  29., 368.,  11.,  31.,   3.,   5.,  36.,  19.],\n",
            "        [  3.,  15.,   9.,   8., 402.,   5.,   6.,   1.,   5.,   5.],\n",
            "        [  1.,   3.,   9.,  19.,   4., 444.,  11.,   2.,   5.,   0.],\n",
            "        [ 10.,   5.,   1.,  13.,   5.,  47., 364.,   0.,  13.,   2.],\n",
            "        [  2.,  24.,   7.,  10.,   2.,   7.,   1., 440.,   0.,   3.],\n",
            "        [ 10.,   3.,   3.,  24.,   3.,   3.,  30.,   2., 384.,  11.],\n",
            "        [ 43.,   5.,  18.,   9.,   5.,   9.,  11.,   4.,  12., 365.]])\n",
            "Overall accuracy and confusion matrix of server for all\n",
            "92.96666666666665\n"
          ]
        },
        {
          "output_type": "stream",
          "name": "stderr",
          "text": [
            "\n"
          ]
        }
      ]
    },
    {
      "cell_type": "markdown",
      "source": [
        "##Comparsion with Baselines"
      ],
      "metadata": {
        "id": "VwtRMau3tA5S"
      }
    },
    {
      "cell_type": "code",
      "source": [
        "concat_dataset = ConcatDataset([train_dataloader1.dataset, train_dataloader2.dataset, train_dataloader3.dataset])\n",
        "batch_size = 64\n",
        "combined_trainloader = DataLoader(concat_dataset, batch_size=batch_size, shuffle=True)\n",
        "concat_dataset = ConcatDataset([test_dataloader1.dataset, test_dataloader2.dataset, test_dataloader3.dataset])\n",
        "batch_size = 16\n",
        "combined_testloader = DataLoader(concat_dataset, batch_size=batch_size, shuffle=True)"
      ],
      "metadata": {
        "id": "Hie8x2tmgQKB"
      },
      "execution_count": 120,
      "outputs": []
    },
    {
      "cell_type": "code",
      "source": [
        "criterion = nn.CrossEntropyLoss()"
      ],
      "metadata": {
        "id": "in-Z-mpfP-6v"
      },
      "execution_count": 121,
      "outputs": []
    },
    {
      "cell_type": "code",
      "source": [
        "def train(model,dataloader,optimizer):\n",
        "  model.train()\n",
        "  running_loss = 0.0\n",
        "  total = 0\n",
        "  for img,label in tqdm(dataloader):\n",
        "      optimizer.zero_grad()\n",
        "      img,label = img.float().cuda(),label.cuda()\n",
        "      out = model(img)\n",
        "      loss = criterion(out,label)\n",
        "      running_loss += loss.item()\n",
        "      total += label.size(0)\n",
        "      loss.backward()\n",
        "      optimizer.step()\n",
        "\n",
        "  return running_loss/total\n",
        "\n",
        "def test(model,testloader):\n",
        "  model.eval()\n",
        "  acc = 0\n",
        "  with torch.no_grad():\n",
        "    total = 0\n",
        "    correct = 0\n",
        "    for img,label in tqdm(testloader):\n",
        "      img,label = img.float().cuda(),label.cuda()\n",
        "      out = model(img)\n",
        "      _, preds = torch.max(out, 1)\n",
        "      total += label.size(0)\n",
        "      correct += (preds == label).sum().item()\n",
        "    print(correct*100/total)"
      ],
      "metadata": {
        "id": "JVXnHsnH7eTV"
      },
      "execution_count": 129,
      "outputs": []
    },
    {
      "cell_type": "code",
      "source": [
        "model = Resnet(10).cuda()\n",
        "optimizer = optim.SGD(model.parameters(),lr=0.01)\n",
        "num_epochs = 15\n",
        "losses = 0.0\n",
        "trainloss = []\n",
        "for epoch in range(num_epochs):\n",
        "  losses = train(model,combined_trainloader,optimizer)\n",
        "  trainloss.append(losses)\n",
        "  print('loss: ',losses)"
      ],
      "metadata": {
        "id": "zE3BdxE2tCdg",
        "colab": {
          "base_uri": "https://localhost:8080/"
        },
        "outputId": "181c7ca6-e3dc-4153-a9fb-20717201048e"
      },
      "execution_count": 123,
      "outputs": [
        {
          "output_type": "stream",
          "name": "stderr",
          "text": [
            "/usr/local/lib/python3.9/dist-packages/torchvision/models/_utils.py:208: UserWarning: The parameter 'pretrained' is deprecated since 0.13 and may be removed in the future, please use 'weights' instead.\n",
            "  warnings.warn(\n",
            "/usr/local/lib/python3.9/dist-packages/torchvision/models/_utils.py:223: UserWarning: Arguments other than a weight enum or `None` for 'weights' are deprecated since 0.13 and may be removed in the future. The current behavior is equivalent to passing `weights=ResNet34_Weights.IMAGENET1K_V1`. You can also use `weights=ResNet34_Weights.DEFAULT` to get the most up-to-date weights.\n",
            "  warnings.warn(msg)\n",
            "100%|██████████| 2864/2864 [01:55<00:00, 24.72it/s]\n"
          ]
        },
        {
          "output_type": "stream",
          "name": "stdout",
          "text": [
            "loss:  0.006189519966378418\n"
          ]
        },
        {
          "output_type": "stream",
          "name": "stderr",
          "text": [
            "100%|██████████| 2864/2864 [01:50<00:00, 25.95it/s]\n"
          ]
        },
        {
          "output_type": "stream",
          "name": "stdout",
          "text": [
            "loss:  0.003041443115342953\n"
          ]
        },
        {
          "output_type": "stream",
          "name": "stderr",
          "text": [
            "100%|██████████| 2864/2864 [01:50<00:00, 25.95it/s]\n"
          ]
        },
        {
          "output_type": "stream",
          "name": "stdout",
          "text": [
            "loss:  0.0024027177197919725\n"
          ]
        },
        {
          "output_type": "stream",
          "name": "stderr",
          "text": [
            "100%|██████████| 2864/2864 [01:48<00:00, 26.48it/s]\n"
          ]
        },
        {
          "output_type": "stream",
          "name": "stdout",
          "text": [
            "loss:  0.0020295030032847624\n"
          ]
        },
        {
          "output_type": "stream",
          "name": "stderr",
          "text": [
            "100%|██████████| 2864/2864 [01:50<00:00, 25.96it/s]\n"
          ]
        },
        {
          "output_type": "stream",
          "name": "stdout",
          "text": [
            "loss:  0.0018087297456220418\n"
          ]
        },
        {
          "output_type": "stream",
          "name": "stderr",
          "text": [
            "100%|██████████| 2864/2864 [01:48<00:00, 26.33it/s]\n"
          ]
        },
        {
          "output_type": "stream",
          "name": "stdout",
          "text": [
            "loss:  0.0016198242049231023\n"
          ]
        },
        {
          "output_type": "stream",
          "name": "stderr",
          "text": [
            "100%|██████████| 2864/2864 [01:49<00:00, 26.09it/s]\n"
          ]
        },
        {
          "output_type": "stream",
          "name": "stdout",
          "text": [
            "loss:  0.0014532194914302276\n"
          ]
        },
        {
          "output_type": "stream",
          "name": "stderr",
          "text": [
            "100%|██████████| 2864/2864 [01:49<00:00, 26.18it/s]\n"
          ]
        },
        {
          "output_type": "stream",
          "name": "stdout",
          "text": [
            "loss:  0.0013187170763548197\n"
          ]
        },
        {
          "output_type": "stream",
          "name": "stderr",
          "text": [
            "100%|██████████| 2864/2864 [01:49<00:00, 26.08it/s]\n"
          ]
        },
        {
          "output_type": "stream",
          "name": "stdout",
          "text": [
            "loss:  0.0011834200637202896\n"
          ]
        },
        {
          "output_type": "stream",
          "name": "stderr",
          "text": [
            "100%|██████████| 2864/2864 [01:51<00:00, 25.60it/s]\n"
          ]
        },
        {
          "output_type": "stream",
          "name": "stdout",
          "text": [
            "loss:  0.0011106133348723183\n"
          ]
        },
        {
          "output_type": "stream",
          "name": "stderr",
          "text": [
            "100%|██████████| 2864/2864 [01:50<00:00, 25.98it/s]\n"
          ]
        },
        {
          "output_type": "stream",
          "name": "stdout",
          "text": [
            "loss:  0.0010189669655888156\n"
          ]
        },
        {
          "output_type": "stream",
          "name": "stderr",
          "text": [
            "100%|██████████| 2864/2864 [01:50<00:00, 25.97it/s]\n"
          ]
        },
        {
          "output_type": "stream",
          "name": "stdout",
          "text": [
            "loss:  0.0009242903047450707\n"
          ]
        },
        {
          "output_type": "stream",
          "name": "stderr",
          "text": [
            "100%|██████████| 2864/2864 [01:50<00:00, 25.83it/s]\n"
          ]
        },
        {
          "output_type": "stream",
          "name": "stdout",
          "text": [
            "loss:  0.0008622752395322854\n"
          ]
        },
        {
          "output_type": "stream",
          "name": "stderr",
          "text": [
            "100%|██████████| 2864/2864 [01:48<00:00, 26.49it/s]\n"
          ]
        },
        {
          "output_type": "stream",
          "name": "stdout",
          "text": [
            "loss:  0.0007967097708165493\n"
          ]
        },
        {
          "output_type": "stream",
          "name": "stderr",
          "text": [
            "100%|██████████| 2864/2864 [01:51<00:00, 25.73it/s]"
          ]
        },
        {
          "output_type": "stream",
          "name": "stdout",
          "text": [
            "loss:  0.0007125881668153495\n"
          ]
        },
        {
          "output_type": "stream",
          "name": "stderr",
          "text": [
            "\n"
          ]
        }
      ]
    },
    {
      "cell_type": "code",
      "source": [
        "plt.plot(range(len(trainloss)),trainloss)\n",
        "plt.xlabel('epochs')\n",
        "plt.ylabel('loss')\n",
        "plt.show()"
      ],
      "metadata": {
        "id": "GkM2rE4Y_mIG",
        "colab": {
          "base_uri": "https://localhost:8080/",
          "height": 449
        },
        "outputId": "d730fb93-c633-4f0a-9cc0-62c4c0cf1a90"
      },
      "execution_count": 127,
      "outputs": [
        {
          "output_type": "display_data",
          "data": {
            "text/plain": [
              "<Figure size 640x480 with 1 Axes>"
            ],
            "image/png": "[encoded data removed]"
          },
          "metadata": {}
        }
      ]
    },
    {
      "cell_type": "code",
      "source": [
        "test(model,combined_testloader)"
      ],
      "metadata": {
        "id": "OKxsuzJOBmVS",
        "colab": {
          "base_uri": "https://localhost:8080/"
        },
        "outputId": "255103e0-3b55-4f61-f04b-75028e643e12"
      },
      "execution_count": 130,
      "outputs": [
        {
          "output_type": "stream",
          "name": "stderr",
          "text": [
            "100%|██████████| 2877/2877 [00:35<00:00, 81.31it/s]"
          ]
        },
        {
          "output_type": "stream",
          "name": "stdout",
          "text": [
            "95.10123392422662\n"
          ]
        },
        {
          "output_type": "stream",
          "name": "stderr",
          "text": [
            "\n"
          ]
        }
      ]
    }
  ]
}